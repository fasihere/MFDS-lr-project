{
  "nbformat": 4,
  "nbformat_minor": 0,
  "metadata": {
    "colab": {
      "name": "q2.ipynb",
      "provenance": [],
      "collapsed_sections": [],
      "include_colab_link": true
    },
    "kernelspec": {
      "name": "python3",
      "display_name": "Python 3"
    },
    "widgets": {
      "application/vnd.jupyter.widget-state+json": {
        "89f866b021304a3c9fd66a80a49eca43": {
          "model_module": "@jupyter-widgets/controls",
          "model_name": "HBoxModel",
          "state": {
            "_view_name": "HBoxView",
            "_dom_classes": [],
            "_model_name": "HBoxModel",
            "_view_module": "@jupyter-widgets/controls",
            "_model_module_version": "1.5.0",
            "_view_count": null,
            "_view_module_version": "1.5.0",
            "box_style": "",
            "layout": "IPY_MODEL_df003a6709c84ee8a72742b6f83de8ae",
            "_model_module": "@jupyter-widgets/controls",
            "children": [
              "IPY_MODEL_663b492c38c04128ae3c77bd42977243",
              "IPY_MODEL_44fae0d28e3f4ba193d782b1cca78b44"
            ]
          }
        },
        "df003a6709c84ee8a72742b6f83de8ae": {
          "model_module": "@jupyter-widgets/base",
          "model_name": "LayoutModel",
          "state": {
            "_view_name": "LayoutView",
            "grid_template_rows": null,
            "right": null,
            "justify_content": null,
            "_view_module": "@jupyter-widgets/base",
            "overflow": null,
            "_model_module_version": "1.2.0",
            "_view_count": null,
            "flex_flow": null,
            "width": null,
            "min_width": null,
            "border": null,
            "align_items": null,
            "bottom": null,
            "_model_module": "@jupyter-widgets/base",
            "top": null,
            "grid_column": null,
            "overflow_y": null,
            "overflow_x": null,
            "grid_auto_flow": null,
            "grid_area": null,
            "grid_template_columns": null,
            "flex": null,
            "_model_name": "LayoutModel",
            "justify_items": null,
            "grid_row": null,
            "max_height": null,
            "align_content": null,
            "visibility": null,
            "align_self": null,
            "height": null,
            "min_height": null,
            "padding": null,
            "grid_auto_rows": null,
            "grid_gap": null,
            "max_width": null,
            "order": null,
            "_view_module_version": "1.2.0",
            "grid_template_areas": null,
            "object_position": null,
            "object_fit": null,
            "grid_auto_columns": null,
            "margin": null,
            "display": null,
            "left": null
          }
        },
        "663b492c38c04128ae3c77bd42977243": {
          "model_module": "@jupyter-widgets/controls",
          "model_name": "IntProgressModel",
          "state": {
            "_view_name": "ProgressView",
            "style": "IPY_MODEL_eb0d32bd10814b2e9cba3456ae44e928",
            "_dom_classes": [],
            "description": "100%",
            "_model_name": "IntProgressModel",
            "bar_style": "success",
            "max": 40,
            "_view_module": "@jupyter-widgets/controls",
            "_model_module_version": "1.5.0",
            "value": 40,
            "_view_count": null,
            "_view_module_version": "1.5.0",
            "orientation": "horizontal",
            "min": 0,
            "description_tooltip": null,
            "_model_module": "@jupyter-widgets/controls",
            "layout": "IPY_MODEL_e23bdb31006a4444ac63c49f9f4d26bc"
          }
        },
        "44fae0d28e3f4ba193d782b1cca78b44": {
          "model_module": "@jupyter-widgets/controls",
          "model_name": "HTMLModel",
          "state": {
            "_view_name": "HTMLView",
            "style": "IPY_MODEL_438c91f1327146d68532a2b6252c7737",
            "_dom_classes": [],
            "description": "",
            "_model_name": "HTMLModel",
            "placeholder": "​",
            "_view_module": "@jupyter-widgets/controls",
            "_model_module_version": "1.5.0",
            "value": " 40/40 [00:02&lt;00:00, 15.16epoch/s]",
            "_view_count": null,
            "_view_module_version": "1.5.0",
            "description_tooltip": null,
            "_model_module": "@jupyter-widgets/controls",
            "layout": "IPY_MODEL_4ca2c8f640d1480f8dcff1f2dcb1128f"
          }
        },
        "eb0d32bd10814b2e9cba3456ae44e928": {
          "model_module": "@jupyter-widgets/controls",
          "model_name": "ProgressStyleModel",
          "state": {
            "_view_name": "StyleView",
            "_model_name": "ProgressStyleModel",
            "description_width": "initial",
            "_view_module": "@jupyter-widgets/base",
            "_model_module_version": "1.5.0",
            "_view_count": null,
            "_view_module_version": "1.2.0",
            "bar_color": null,
            "_model_module": "@jupyter-widgets/controls"
          }
        },
        "e23bdb31006a4444ac63c49f9f4d26bc": {
          "model_module": "@jupyter-widgets/base",
          "model_name": "LayoutModel",
          "state": {
            "_view_name": "LayoutView",
            "grid_template_rows": null,
            "right": null,
            "justify_content": null,
            "_view_module": "@jupyter-widgets/base",
            "overflow": null,
            "_model_module_version": "1.2.0",
            "_view_count": null,
            "flex_flow": null,
            "width": null,
            "min_width": null,
            "border": null,
            "align_items": null,
            "bottom": null,
            "_model_module": "@jupyter-widgets/base",
            "top": null,
            "grid_column": null,
            "overflow_y": null,
            "overflow_x": null,
            "grid_auto_flow": null,
            "grid_area": null,
            "grid_template_columns": null,
            "flex": null,
            "_model_name": "LayoutModel",
            "justify_items": null,
            "grid_row": null,
            "max_height": null,
            "align_content": null,
            "visibility": null,
            "align_self": null,
            "height": null,
            "min_height": null,
            "padding": null,
            "grid_auto_rows": null,
            "grid_gap": null,
            "max_width": null,
            "order": null,
            "_view_module_version": "1.2.0",
            "grid_template_areas": null,
            "object_position": null,
            "object_fit": null,
            "grid_auto_columns": null,
            "margin": null,
            "display": null,
            "left": null
          }
        },
        "438c91f1327146d68532a2b6252c7737": {
          "model_module": "@jupyter-widgets/controls",
          "model_name": "DescriptionStyleModel",
          "state": {
            "_view_name": "StyleView",
            "_model_name": "DescriptionStyleModel",
            "description_width": "",
            "_view_module": "@jupyter-widgets/base",
            "_model_module_version": "1.5.0",
            "_view_count": null,
            "_view_module_version": "1.2.0",
            "_model_module": "@jupyter-widgets/controls"
          }
        },
        "4ca2c8f640d1480f8dcff1f2dcb1128f": {
          "model_module": "@jupyter-widgets/base",
          "model_name": "LayoutModel",
          "state": {
            "_view_name": "LayoutView",
            "grid_template_rows": null,
            "right": null,
            "justify_content": null,
            "_view_module": "@jupyter-widgets/base",
            "overflow": null,
            "_model_module_version": "1.2.0",
            "_view_count": null,
            "flex_flow": null,
            "width": null,
            "min_width": null,
            "border": null,
            "align_items": null,
            "bottom": null,
            "_model_module": "@jupyter-widgets/base",
            "top": null,
            "grid_column": null,
            "overflow_y": null,
            "overflow_x": null,
            "grid_auto_flow": null,
            "grid_area": null,
            "grid_template_columns": null,
            "flex": null,
            "_model_name": "LayoutModel",
            "justify_items": null,
            "grid_row": null,
            "max_height": null,
            "align_content": null,
            "visibility": null,
            "align_self": null,
            "height": null,
            "min_height": null,
            "padding": null,
            "grid_auto_rows": null,
            "grid_gap": null,
            "max_width": null,
            "order": null,
            "_view_module_version": "1.2.0",
            "grid_template_areas": null,
            "object_position": null,
            "object_fit": null,
            "grid_auto_columns": null,
            "margin": null,
            "display": null,
            "left": null
          }
        }
      }
    }
  },
  "cells": [
    {
      "cell_type": "markdown",
      "metadata": {
        "id": "view-in-github",
        "colab_type": "text"
      },
      "source": [
        "<a href=\"https://colab.research.google.com/github/fasihere/MFDS-project/blob/main/q2.ipynb\" target=\"_parent\"><img src=\"https://colab.research.google.com/assets/colab-badge.svg\" alt=\"Open In Colab\"/></a>"
      ]
    },
    {
      "cell_type": "code",
      "metadata": {
        "id": "lZmW1TkLAqIO",
        "colab": {
          "base_uri": "https://localhost:8080/",
          "height": 71
        },
        "outputId": "056d6e25-c41b-49f9-ea7c-07f3d311d06f"
      },
      "source": [
        "import numpy as np\n",
        "import pandas as pd\n",
        "import matplotlib.pyplot as plt\n",
        "from tqdm import tqdm_notebook\n",
        "import statsmodels.api as sm\n",
        "import seaborn as sns"
      ],
      "execution_count": null,
      "outputs": [
        {
          "output_type": "stream",
          "text": [
            "/usr/local/lib/python3.6/dist-packages/statsmodels/tools/_testing.py:19: FutureWarning: pandas.util.testing is deprecated. Use the functions in the public API at pandas.testing instead.\n",
            "  import pandas.util.testing as tm\n"
          ],
          "name": "stderr"
        }
      ]
    },
    {
      "cell_type": "code",
      "metadata": {
        "id": "usbYeDXUA-oL",
        "colab": {
          "base_uri": "https://localhost:8080/",
          "height": 207
        },
        "outputId": "dc44e034-de6f-45fc-ea1c-fb3c922a4fb3"
      },
      "source": [
        "from google.colab import drive\n",
        "drive.mount('/content/drive')"
      ],
      "execution_count": null,
      "outputs": [
        {
          "output_type": "stream",
          "text": [
            "Go to this URL in a browser: https://accounts.google.com/o/oauth2/auth?client_id=947318989803-6bn6qk8qdgf4n4g3pfee6491hc0brc4i.apps.googleusercontent.com&redirect_uri=urn%3aietf%3awg%3aoauth%3a2.0%3aoob&response_type=code&scope=email%20https%3a%2f%2fwww.googleapis.com%2fauth%2fdocs.test%20https%3a%2f%2fwww.googleapis.com%2fauth%2fdrive%20https%3a%2f%2fwww.googleapis.com%2fauth%2fdrive.photos.readonly%20https%3a%2f%2fwww.googleapis.com%2fauth%2fpeopleapi.readonly\n",
            "\n",
            "Enter your authorization code:\n",
            "··········\n",
            "Mounted at /content/drive\n"
          ],
          "name": "stdout"
        }
      ]
    },
    {
      "cell_type": "code",
      "metadata": {
        "id": "QQ62nswPBaoH",
        "colab": {
          "base_uri": "https://localhost:8080/",
          "height": 394
        },
        "outputId": "46b5353b-d025-440f-d0ee-242d56fe5cf2"
      },
      "source": [
        "path='/content/drive/My Drive/Colab Notebooks/Dataset_Question2.xlsx'\n",
        "\n",
        "df=pd.read_excel(path)\n",
        "df.head(10)"
      ],
      "execution_count": null,
      "outputs": [
        {
          "output_type": "execute_result",
          "data": {
            "text/html": [
              "<div>\n",
              "<style scoped>\n",
              "    .dataframe tbody tr th:only-of-type {\n",
              "        vertical-align: middle;\n",
              "    }\n",
              "\n",
              "    .dataframe tbody tr th {\n",
              "        vertical-align: top;\n",
              "    }\n",
              "\n",
              "    .dataframe thead th {\n",
              "        text-align: right;\n",
              "    }\n",
              "</style>\n",
              "<table border=\"1\" class=\"dataframe\">\n",
              "  <thead>\n",
              "    <tr style=\"text-align: right;\">\n",
              "      <th></th>\n",
              "      <th>Temperature</th>\n",
              "      <th>Pressure</th>\n",
              "      <th>Feed Flow rate</th>\n",
              "      <th>Coolant Flow rate</th>\n",
              "      <th>Inlet reactant concentration</th>\n",
              "      <th>Test</th>\n",
              "    </tr>\n",
              "  </thead>\n",
              "  <tbody>\n",
              "    <tr>\n",
              "      <th>0</th>\n",
              "      <td>406.86</td>\n",
              "      <td>17.66</td>\n",
              "      <td>121.83</td>\n",
              "      <td>2109.20</td>\n",
              "      <td>0.1033</td>\n",
              "      <td>Pass</td>\n",
              "    </tr>\n",
              "    <tr>\n",
              "      <th>1</th>\n",
              "      <td>693.39</td>\n",
              "      <td>24.66</td>\n",
              "      <td>133.18</td>\n",
              "      <td>3138.96</td>\n",
              "      <td>0.3785</td>\n",
              "      <td>Pass</td>\n",
              "    </tr>\n",
              "    <tr>\n",
              "      <th>2</th>\n",
              "      <td>523.10</td>\n",
              "      <td>23.23</td>\n",
              "      <td>146.55</td>\n",
              "      <td>1058.24</td>\n",
              "      <td>0.4799</td>\n",
              "      <td>Fail</td>\n",
              "    </tr>\n",
              "    <tr>\n",
              "      <th>3</th>\n",
              "      <td>612.86</td>\n",
              "      <td>40.97</td>\n",
              "      <td>94.44</td>\n",
              "      <td>1325.12</td>\n",
              "      <td>0.3147</td>\n",
              "      <td>Fail</td>\n",
              "    </tr>\n",
              "    <tr>\n",
              "      <th>4</th>\n",
              "      <td>500.28</td>\n",
              "      <td>37.44</td>\n",
              "      <td>185.48</td>\n",
              "      <td>2474.51</td>\n",
              "      <td>0.2284</td>\n",
              "      <td>Pass</td>\n",
              "    </tr>\n",
              "    <tr>\n",
              "      <th>5</th>\n",
              "      <td>413.67</td>\n",
              "      <td>44.19</td>\n",
              "      <td>84.87</td>\n",
              "      <td>3036.71</td>\n",
              "      <td>0.3293</td>\n",
              "      <td>Pass</td>\n",
              "    </tr>\n",
              "    <tr>\n",
              "      <th>6</th>\n",
              "      <td>537.04</td>\n",
              "      <td>38.49</td>\n",
              "      <td>114.66</td>\n",
              "      <td>3444.10</td>\n",
              "      <td>0.3669</td>\n",
              "      <td>Fail</td>\n",
              "    </tr>\n",
              "    <tr>\n",
              "      <th>7</th>\n",
              "      <td>405.22</td>\n",
              "      <td>31.55</td>\n",
              "      <td>74.09</td>\n",
              "      <td>1478.86</td>\n",
              "      <td>0.3647</td>\n",
              "      <td>Fail</td>\n",
              "    </tr>\n",
              "    <tr>\n",
              "      <th>8</th>\n",
              "      <td>560.94</td>\n",
              "      <td>25.78</td>\n",
              "      <td>134.21</td>\n",
              "      <td>1387.35</td>\n",
              "      <td>0.4170</td>\n",
              "      <td>Fail</td>\n",
              "    </tr>\n",
              "    <tr>\n",
              "      <th>9</th>\n",
              "      <td>522.52</td>\n",
              "      <td>49.77</td>\n",
              "      <td>170.69</td>\n",
              "      <td>2232.49</td>\n",
              "      <td>0.2544</td>\n",
              "      <td>Fail</td>\n",
              "    </tr>\n",
              "  </tbody>\n",
              "</table>\n",
              "</div>"
            ],
            "text/plain": [
              "   Temperature  Pressure  ...  Inlet reactant concentration  Test\n",
              "0       406.86     17.66  ...                        0.1033  Pass\n",
              "1       693.39     24.66  ...                        0.3785  Pass\n",
              "2       523.10     23.23  ...                        0.4799  Fail\n",
              "3       612.86     40.97  ...                        0.3147  Fail\n",
              "4       500.28     37.44  ...                        0.2284  Pass\n",
              "5       413.67     44.19  ...                        0.3293  Pass\n",
              "6       537.04     38.49  ...                        0.3669  Fail\n",
              "7       405.22     31.55  ...                        0.3647  Fail\n",
              "8       560.94     25.78  ...                        0.4170  Fail\n",
              "9       522.52     49.77  ...                        0.2544  Fail\n",
              "\n",
              "[10 rows x 6 columns]"
            ]
          },
          "metadata": {
            "tags": []
          },
          "execution_count": 3
        }
      ]
    },
    {
      "cell_type": "code",
      "metadata": {
        "id": "2luGn6TfBsDf",
        "colab": {
          "base_uri": "https://localhost:8080/",
          "height": 241
        },
        "outputId": "cf3f77df-bebe-4c44-9be7-b277ce178b54"
      },
      "source": [
        "df.head()"
      ],
      "execution_count": null,
      "outputs": [
        {
          "output_type": "execute_result",
          "data": {
            "text/html": [
              "<div>\n",
              "<style scoped>\n",
              "    .dataframe tbody tr th:only-of-type {\n",
              "        vertical-align: middle;\n",
              "    }\n",
              "\n",
              "    .dataframe tbody tr th {\n",
              "        vertical-align: top;\n",
              "    }\n",
              "\n",
              "    .dataframe thead th {\n",
              "        text-align: right;\n",
              "    }\n",
              "</style>\n",
              "<table border=\"1\" class=\"dataframe\">\n",
              "  <thead>\n",
              "    <tr style=\"text-align: right;\">\n",
              "      <th></th>\n",
              "      <th>Temperature</th>\n",
              "      <th>Pressure</th>\n",
              "      <th>Feed Flow rate</th>\n",
              "      <th>Coolant Flow rate</th>\n",
              "      <th>Inlet reactant concentration</th>\n",
              "      <th>Test</th>\n",
              "    </tr>\n",
              "  </thead>\n",
              "  <tbody>\n",
              "    <tr>\n",
              "      <th>0</th>\n",
              "      <td>406.86</td>\n",
              "      <td>17.66</td>\n",
              "      <td>121.83</td>\n",
              "      <td>2109.20</td>\n",
              "      <td>0.1033</td>\n",
              "      <td>Pass</td>\n",
              "    </tr>\n",
              "    <tr>\n",
              "      <th>1</th>\n",
              "      <td>693.39</td>\n",
              "      <td>24.66</td>\n",
              "      <td>133.18</td>\n",
              "      <td>3138.96</td>\n",
              "      <td>0.3785</td>\n",
              "      <td>Pass</td>\n",
              "    </tr>\n",
              "    <tr>\n",
              "      <th>2</th>\n",
              "      <td>523.10</td>\n",
              "      <td>23.23</td>\n",
              "      <td>146.55</td>\n",
              "      <td>1058.24</td>\n",
              "      <td>0.4799</td>\n",
              "      <td>Fail</td>\n",
              "    </tr>\n",
              "    <tr>\n",
              "      <th>3</th>\n",
              "      <td>612.86</td>\n",
              "      <td>40.97</td>\n",
              "      <td>94.44</td>\n",
              "      <td>1325.12</td>\n",
              "      <td>0.3147</td>\n",
              "      <td>Fail</td>\n",
              "    </tr>\n",
              "    <tr>\n",
              "      <th>4</th>\n",
              "      <td>500.28</td>\n",
              "      <td>37.44</td>\n",
              "      <td>185.48</td>\n",
              "      <td>2474.51</td>\n",
              "      <td>0.2284</td>\n",
              "      <td>Pass</td>\n",
              "    </tr>\n",
              "  </tbody>\n",
              "</table>\n",
              "</div>"
            ],
            "text/plain": [
              "   Temperature  Pressure  ...  Inlet reactant concentration  Test\n",
              "0       406.86     17.66  ...                        0.1033  Pass\n",
              "1       693.39     24.66  ...                        0.3785  Pass\n",
              "2       523.10     23.23  ...                        0.4799  Fail\n",
              "3       612.86     40.97  ...                        0.3147  Fail\n",
              "4       500.28     37.44  ...                        0.2284  Pass\n",
              "\n",
              "[5 rows x 6 columns]"
            ]
          },
          "metadata": {
            "tags": []
          },
          "execution_count": 318
        }
      ]
    },
    {
      "cell_type": "code",
      "metadata": {
        "id": "epWld-u6CneN"
      },
      "source": [
        "df[\"Test\"]=df[\"Test\"].map(lambda x:0 if x==\"Fail\" else 1)"
      ],
      "execution_count": null,
      "outputs": []
    },
    {
      "cell_type": "code",
      "metadata": {
        "id": "2NVhiczyDvsy",
        "colab": {
          "base_uri": "https://localhost:8080/",
          "height": 241
        },
        "outputId": "2863dc07-89b7-495b-da03-5f41e076caff"
      },
      "source": [
        "df.head()"
      ],
      "execution_count": null,
      "outputs": [
        {
          "output_type": "execute_result",
          "data": {
            "text/html": [
              "<div>\n",
              "<style scoped>\n",
              "    .dataframe tbody tr th:only-of-type {\n",
              "        vertical-align: middle;\n",
              "    }\n",
              "\n",
              "    .dataframe tbody tr th {\n",
              "        vertical-align: top;\n",
              "    }\n",
              "\n",
              "    .dataframe thead th {\n",
              "        text-align: right;\n",
              "    }\n",
              "</style>\n",
              "<table border=\"1\" class=\"dataframe\">\n",
              "  <thead>\n",
              "    <tr style=\"text-align: right;\">\n",
              "      <th></th>\n",
              "      <th>Temperature</th>\n",
              "      <th>Pressure</th>\n",
              "      <th>Feed Flow rate</th>\n",
              "      <th>Coolant Flow rate</th>\n",
              "      <th>Inlet reactant concentration</th>\n",
              "      <th>Test</th>\n",
              "    </tr>\n",
              "  </thead>\n",
              "  <tbody>\n",
              "    <tr>\n",
              "      <th>0</th>\n",
              "      <td>406.86</td>\n",
              "      <td>17.66</td>\n",
              "      <td>121.83</td>\n",
              "      <td>2109.20</td>\n",
              "      <td>0.1033</td>\n",
              "      <td>1</td>\n",
              "    </tr>\n",
              "    <tr>\n",
              "      <th>1</th>\n",
              "      <td>693.39</td>\n",
              "      <td>24.66</td>\n",
              "      <td>133.18</td>\n",
              "      <td>3138.96</td>\n",
              "      <td>0.3785</td>\n",
              "      <td>1</td>\n",
              "    </tr>\n",
              "    <tr>\n",
              "      <th>2</th>\n",
              "      <td>523.10</td>\n",
              "      <td>23.23</td>\n",
              "      <td>146.55</td>\n",
              "      <td>1058.24</td>\n",
              "      <td>0.4799</td>\n",
              "      <td>0</td>\n",
              "    </tr>\n",
              "    <tr>\n",
              "      <th>3</th>\n",
              "      <td>612.86</td>\n",
              "      <td>40.97</td>\n",
              "      <td>94.44</td>\n",
              "      <td>1325.12</td>\n",
              "      <td>0.3147</td>\n",
              "      <td>0</td>\n",
              "    </tr>\n",
              "    <tr>\n",
              "      <th>4</th>\n",
              "      <td>500.28</td>\n",
              "      <td>37.44</td>\n",
              "      <td>185.48</td>\n",
              "      <td>2474.51</td>\n",
              "      <td>0.2284</td>\n",
              "      <td>1</td>\n",
              "    </tr>\n",
              "  </tbody>\n",
              "</table>\n",
              "</div>"
            ],
            "text/plain": [
              "   Temperature  Pressure  ...  Inlet reactant concentration  Test\n",
              "0       406.86     17.66  ...                        0.1033     1\n",
              "1       693.39     24.66  ...                        0.3785     1\n",
              "2       523.10     23.23  ...                        0.4799     0\n",
              "3       612.86     40.97  ...                        0.3147     0\n",
              "4       500.28     37.44  ...                        0.2284     1\n",
              "\n",
              "[5 rows x 6 columns]"
            ]
          },
          "metadata": {
            "tags": []
          },
          "execution_count": 320
        }
      ]
    },
    {
      "cell_type": "code",
      "metadata": {
        "id": "9q9Bc5TewND4"
      },
      "source": [
        "df_true=df.copy()\n",
        "df_false=df.copy()\n"
      ],
      "execution_count": null,
      "outputs": []
    },
    {
      "cell_type": "code",
      "metadata": {
        "id": "JJLSizCCvvCM"
      },
      "source": [
        "drop_labels_true=[]\n",
        "drop_labels_false=[]\n",
        "for i in range(df_true.shape[0]):\n",
        "  if df_true[\"Test\"].values[i]==0:\n",
        "    drop_labels_true.append(i)\n",
        "for i in range(df_false.shape[0]):\n",
        "  if df_false[\"Test\"].values[i]==1:\n",
        "    drop_labels_false.append(i)\n",
        "\n",
        "  \n"
      ],
      "execution_count": null,
      "outputs": []
    },
    {
      "cell_type": "code",
      "metadata": {
        "id": "Dke-U4_xy31N"
      },
      "source": [
        "df_true=df_true.drop(drop_labels_true,axis=0)\n",
        "df_false=df_false.drop(drop_labels_false,axis=0)"
      ],
      "execution_count": null,
      "outputs": []
    },
    {
      "cell_type": "code",
      "metadata": {
        "id": "0SB465WTzCd1",
        "colab": {
          "base_uri": "https://localhost:8080/",
          "height": 74
        },
        "outputId": "aaa72ffc-8ef8-414c-8086-209719c6cc59"
      },
      "source": [
        "df_true[\"Temperature\"].mean()"
      ],
      "execution_count": null,
      "outputs": [
        {
          "output_type": "execute_result",
          "data": {
            "text/plain": [
              "546.1502905982896"
            ]
          },
          "metadata": {
            "tags": []
          },
          "execution_count": 324
        }
      ]
    },
    {
      "cell_type": "code",
      "metadata": {
        "id": "rbrHyXxEw8W6",
        "colab": {
          "base_uri": "https://localhost:8080/",
          "height": 1000
        },
        "outputId": "3df149a5-ab56-40cb-d505-3d1fed52a029"
      },
      "source": [
        "sm.qqplot(df[\"Temperature\"])\n",
        "sm.qqplot(df[\"Pressure\"])\n",
        "sm.qqplot(df[\"Feed Flow rate\"])\n",
        "sm.qqplot(df[\"Coolant Flow rate\"])\n",
        "sm.qqplot(df[\"Inlet reactant concentration\"])\n",
        "plt.show()"
      ],
      "execution_count": null,
      "outputs": [
        {
          "output_type": "display_data",
          "data": {
            "image/png": "[encoded data removed]",
            "text/plain": [
              "<Figure size 432x288 with 1 Axes>"
            ]
          },
          "metadata": {
            "tags": [],
            "needs_background": "light"
          }
        },
        {
          "output_type": "display_data",
          "data": {
            "image/png": "[encoded data removed]",
            "text/plain": [
              "<Figure size 432x288 with 1 Axes>"
            ]
          },
          "metadata": {
            "tags": [],
            "needs_background": "light"
          }
        },
        {
          "output_type": "display_data",
          "data": {
            "image/png": "[encoded data removed]",
            "text/plain": [
              "<Figure size 432x288 with 1 Axes>"
            ]
          },
          "metadata": {
            "tags": [],
            "needs_background": "light"
          }
        },
        {
          "output_type": "display_data",
          "data": {
            "image/png": "[encoded data removed]",
            "text/plain": [
              "<Figure size 432x288 with 1 Axes>"
            ]
          },
          "metadata": {
            "tags": [],
            "needs_background": "light"
          }
        },
        {
          "output_type": "display_data",
          "data": {
            "image/png": "[encoded data removed]",
            "text/plain": [
              "<Figure size 432x288 with 1 Axes>"
            ]
          },
          "metadata": {
            "tags": [],
            "needs_background": "light"
          }
        }
      ]
    },
    {
      "cell_type": "code",
      "metadata": {
        "id": "NwmzfpYcvTVd",
        "colab": {
          "base_uri": "https://localhost:8080/",
          "height": 306
        },
        "outputId": "fe85f310-a170-48b0-a8ae-c3f02d2b9f5d"
      },
      "source": [
        "plt.scatter(df[\"Test\"],df[\"Inlet reactant concentration\"])\n",
        "plt.show()"
      ],
      "execution_count": null,
      "outputs": [
        {
          "output_type": "display_data",
          "data": {
            "image/png": "[encoded data removed]",
            "text/plain": [
              "<Figure size 432x288 with 1 Axes>"
            ]
          },
          "metadata": {
            "tags": [],
            "needs_background": "light"
          }
        }
      ]
    },
    {
      "cell_type": "code",
      "metadata": {
        "id": "-d6ggba6uUZG",
        "colab": {
          "base_uri": "https://localhost:8080/",
          "height": 306
        },
        "outputId": "1dbc64cc-c550-4786-a736-3a11c754ab0b"
      },
      "source": [
        "plt.scatter(df[\"Test\"],df[\"Temperature\"],linewidth=1)\n",
        "plt.show()"
      ],
      "execution_count": null,
      "outputs": [
        {
          "output_type": "display_data",
          "data": {
            "image/png": "[encoded data removed]",
            "text/plain": [
              "<Figure size 432x288 with 1 Axes>"
            ]
          },
          "metadata": {
            "tags": [],
            "needs_background": "light"
          }
        }
      ]
    },
    {
      "cell_type": "code",
      "metadata": {
        "id": "PshkWTmpdsLu",
        "colab": {
          "base_uri": "https://localhost:8080/",
          "height": 406
        },
        "outputId": "169af30d-2c2b-4e38-da09-0eac94e88914"
      },
      "source": [
        "corr = df.iloc[:,:5].corr()\n",
        "ax = sns.heatmap(\n",
        "    corr, \n",
        "    vmin=-1, vmax=1, center=0,\n",
        "    cmap=sns.diverging_palette(20, 220, n=200),\n",
        "    square=True\n",
        ")\n",
        "ax.set_xticklabels(\n",
        "    ax.get_xticklabels(),\n",
        "    rotation=45,\n",
        "    horizontalalignment='right'\n",
        ");"
      ],
      "execution_count": null,
      "outputs": [
        {
          "output_type": "display_data",
          "data": {
            "image/png": "[encoded data removed]",
            "text/plain": [
              "<Figure size 432x288 with 2 Axes>"
            ]
          },
          "metadata": {
            "tags": [],
            "needs_background": "light"
          }
        }
      ]
    },
    {
      "cell_type": "code",
      "metadata": {
        "id": "RgeCWSnLS5W0",
        "colab": {
          "base_uri": "https://localhost:8080/",
          "height": 74
        },
        "outputId": "23cd5a91-9fe2-4be1-a0c7-7211e4f4761f"
      },
      "source": [
        "Temp_mean=df[\"Temperature\"].mean()\n",
        "Temp_std=df[\"Temperature\"].std()\n",
        "print(Temp_mean,Temp_std)"
      ],
      "execution_count": null,
      "outputs": [
        {
          "output_type": "stream",
          "text": [
            "546.7664299999994 86.85878045135449\n"
          ],
          "name": "stdout"
        }
      ]
    },
    {
      "cell_type": "code",
      "metadata": {
        "id": "6Jt_q-VlTWRP",
        "colab": {
          "base_uri": "https://localhost:8080/",
          "height": 74
        },
        "outputId": "1ba97e67-d383-4acf-ac5a-884f1b3ebb84"
      },
      "source": [
        "Pressure_mean=df[\"Pressure\"].mean()\n",
        "Pressure_std=df[\"Pressure\"].std()\n",
        "print(Pressure_mean,Pressure_std)"
      ],
      "execution_count": null,
      "outputs": [
        {
          "output_type": "stream",
          "text": [
            "25.493269999999928 14.252407316710428\n"
          ],
          "name": "stdout"
        }
      ]
    },
    {
      "cell_type": "code",
      "metadata": {
        "id": "E8i8syNETjT0",
        "colab": {
          "base_uri": "https://localhost:8080/",
          "height": 74
        },
        "outputId": "baa2b559-0126-4ef9-a3a8-e347d99d1871"
      },
      "source": [
        "feed_flow_rate_mean=df[\"Feed Flow rate\"].mean()\n",
        "feed_flow_rate_std=df[\"Feed Flow rate\"].std()\n",
        "print(feed_flow_rate_mean,feed_flow_rate_std)"
      ],
      "execution_count": null,
      "outputs": [
        {
          "output_type": "stream",
          "text": [
            "125.02905999999943 43.50815916618875\n"
          ],
          "name": "stdout"
        }
      ]
    },
    {
      "cell_type": "code",
      "metadata": {
        "id": "DZNKRX6_T_tT",
        "colab": {
          "base_uri": "https://localhost:8080/",
          "height": 74
        },
        "outputId": "dc91c1bf-ec62-4acd-e0e4-456ff42599a2"
      },
      "source": [
        "coolant_flow_rate_mean=df[\"Coolant Flow rate\"].mean()\n",
        "coolant_flow_rate_std=df[\"Coolant Flow rate\"].std()\n",
        "print(coolant_flow_rate_mean,coolant_flow_rate_std)"
      ],
      "execution_count": null,
      "outputs": [
        {
          "output_type": "stream",
          "text": [
            "2295.7977699999924 763.6806252748243\n"
          ],
          "name": "stdout"
        }
      ]
    },
    {
      "cell_type": "code",
      "metadata": {
        "id": "00_w1w2eULjf",
        "colab": {
          "base_uri": "https://localhost:8080/",
          "height": 74
        },
        "outputId": "fec4f2e4-4f35-4480-a8b3-e61e57967940"
      },
      "source": [
        "concentration_mean=df[\"Inlet reactant concentration\"].mean()\n",
        "concentration_std=df[\"Inlet reactant concentration\"].std()\n",
        "print(concentration_mean,concentration_std)"
      ],
      "execution_count": null,
      "outputs": [
        {
          "output_type": "stream",
          "text": [
            "0.30269199999999974 0.11606222872639015\n"
          ],
          "name": "stdout"
        }
      ]
    },
    {
      "cell_type": "code",
      "metadata": {
        "id": "TsMq2xUgD6Lv"
      },
      "source": [
        "train=df.copy()"
      ],
      "execution_count": null,
      "outputs": []
    },
    {
      "cell_type": "code",
      "metadata": {
        "id": "9X5pogNAIbqS"
      },
      "source": [
        "test=train[\"Test\"].values\n",
        "train=train.drop('Test',axis=1)"
      ],
      "execution_count": null,
      "outputs": []
    },
    {
      "cell_type": "code",
      "metadata": {
        "id": "hvS19fGI_WfX",
        "colab": {
          "base_uri": "https://localhost:8080/",
          "height": 107
        },
        "outputId": "8a6f5ac5-6521-44d9-9614-d801640412ae"
      },
      "source": [
        "df[\"Test\"].value_counts(normalize=True)"
      ],
      "execution_count": null,
      "outputs": [
        {
          "output_type": "execute_result",
          "data": {
            "text/plain": [
              "1    0.585\n",
              "0    0.415\n",
              "Name: Test, dtype: float64"
            ]
          },
          "metadata": {
            "tags": []
          },
          "execution_count": 336
        }
      ]
    },
    {
      "cell_type": "code",
      "metadata": {
        "id": "xStbNquM_oXj"
      },
      "source": [
        "Y_binarised = df[\"Test\"].values"
      ],
      "execution_count": null,
      "outputs": []
    },
    {
      "cell_type": "code",
      "metadata": {
        "id": "e-y1i3tbeHKi"
      },
      "source": [
        ""
      ],
      "execution_count": null,
      "outputs": []
    },
    {
      "cell_type": "code",
      "metadata": {
        "id": "kZOludL43m75",
        "colab": {
          "base_uri": "https://localhost:8080/",
          "height": 168
        },
        "outputId": "4f73c5a9-7c62-463f-a41f-b21a222918a4"
      },
      "source": [
        "#Train Test Split\n",
        "\n",
        "# Shuffle dataset \n",
        "shuffle_df = df.sample(frac=1,random_)\n",
        "\n",
        "# Define a size for your train set \n",
        "train_size = int(0.7 * len(df)) \n",
        "\n",
        "# Split dataset \n",
        "train_set = shuffle_df[:train_size]\n",
        "test_set = shuffle_df[train_size:]\n",
        "x_train=train_set.iloc[:,:5]\n",
        "y_train=train_set['Test']\n",
        "x_test=test_set.iloc[:,:5]\n",
        "y_test=test_set['Test']\n",
        "'''\n",
        "#Train Test Split\n",
        "\n",
        "# Shuffle dataset \n",
        "shuffle_df = df.sample(frac=1)\n",
        "shuffle_true=df_true.sample(frac=1)\n",
        "shuffle_false=df_false.sample(frac=1)\n",
        "\n",
        "# Define a size for your train set \n",
        "train_size_true=int(0.7 * len(df_true))\n",
        "train_size_false=int(0.7 * len(df_false))\n",
        "\n",
        "# Split dataset \n",
        "train_true = shuffle_true[:train_size_true]\n",
        "test_true = shuffle_true[train_size_true:]\n",
        "train_false = shuffle_false[:train_size_false]\n",
        "test_false = shuffle_false[train_size_false:]\n",
        "train_set=pd.concat((train_true,train_false))\n",
        "test_set=pd.concat((test_true,test_false))\n",
        "\n",
        "train_set=train_set.sample(frac=1)\n",
        "test_set=test_set.sample(frac=1)\n",
        "\n",
        "# Split dataset \n",
        "x_train=train_set.iloc[:,:5]\n",
        "y_train=train_set['Test']\n",
        "x_test=test_set.iloc[:,:5]\n",
        "y_test=test_set['Test']\n",
        "\n",
        "train_set.head()'''"
      ],
      "execution_count": null,
      "outputs": [
        {
          "output_type": "error",
          "ename": "SyntaxError",
          "evalue": "ignored",
          "traceback": [
            "\u001b[0;36m  File \u001b[0;32m\"<ipython-input-4-c53aa3afb217>\"\u001b[0;36m, line \u001b[0;32m1\u001b[0m\n\u001b[0;31m    shuffle_df = df.sample(frac=1,random)\u001b[0m\n\u001b[0m                                 ^\u001b[0m\n\u001b[0;31mSyntaxError\u001b[0m\u001b[0;31m:\u001b[0m positional argument follows keyword argument\n"
          ]
        }
      ]
    },
    {
      "cell_type": "code",
      "metadata": {
        "id": "mFT7tGfv3Hnb"
      },
      "source": [
        "A=x_train.copy()\n",
        "for row in A:\n",
        "  A[row]=A[row].astype(float)"
      ],
      "execution_count": null,
      "outputs": []
    },
    {
      "cell_type": "code",
      "metadata": {
        "id": "PKzIwZH_37Y1"
      },
      "source": [
        "mean=[]\n",
        "std=[]\n",
        "for row in x_train:\n",
        "  mean.append(x_train[row].mean())\n",
        "  std.append(x_train[row].std())\n"
      ],
      "execution_count": null,
      "outputs": []
    },
    {
      "cell_type": "code",
      "metadata": {
        "id": "nnoHa7GV4Ymt",
        "colab": {
          "base_uri": "https://localhost:8080/",
          "height": 74
        },
        "outputId": "8a1f9352-353d-4ef5-c80f-6294572622cd"
      },
      "source": [
        "print(mean,std)"
      ],
      "execution_count": null,
      "outputs": [
        {
          "output_type": "stream",
          "text": [
            "[546.5957285714281, 25.44141428571424, 127.31819999999945, 2289.374885714277, 0.3005857142857139] [86.92903444072086, 14.025286876201074, 42.94797551078454, 771.4713232378658, 0.11762908410137217]\n"
          ],
          "name": "stdout"
        }
      ]
    },
    {
      "cell_type": "code",
      "metadata": {
        "id": "-YJo_4Hb3PnR"
      },
      "source": [
        "for row in x_train:\n",
        "  for i in range(x_train.shape[0]):\n",
        "    a=(x_train[row].values[i]-x_train[row].mean())\n",
        "    b=a/x_train[row].std()\n",
        "    #print(a,b,row)\n",
        "    A[row].values[i]=b\n",
        "    #print(A)\n",
        "#print(train.head())"
      ],
      "execution_count": null,
      "outputs": []
    },
    {
      "cell_type": "code",
      "metadata": {
        "id": "3Y3KYAJ23UCy",
        "colab": {
          "base_uri": "https://localhost:8080/",
          "height": 158
        },
        "outputId": "8d43c0f0-3906-4777-be48-32572c5a0549"
      },
      "source": [
        "A.mean()"
      ],
      "execution_count": null,
      "outputs": [
        {
          "output_type": "execute_result",
          "data": {
            "text/plain": [
              "Temperature                    -4.741644e-16\n",
              "Pressure                        6.867522e-17\n",
              "Feed Flow rate                  4.980936e-15\n",
              "Coolant Flow rate               5.644691e-15\n",
              "Inlet reactant concentration   -8.967430e-16\n",
              "dtype: float64"
            ]
          },
          "metadata": {
            "tags": []
          },
          "execution_count": 545
        }
      ]
    },
    {
      "cell_type": "code",
      "metadata": {
        "id": "8d4OwRrG51PH"
      },
      "source": [
        "B=x_test.copy()\n",
        "for row in B:\n",
        "  B[row]=B[row].astype(float)"
      ],
      "execution_count": null,
      "outputs": []
    },
    {
      "cell_type": "code",
      "metadata": {
        "id": "CfQWeCRs5DFU"
      },
      "source": [
        "for row,j in zip(x_test,range(5)):\n",
        "  for i in range(x_test.shape[0]):\n",
        "    a=(x_test[row].values[i]-mean[j])\n",
        "    b=a/std[j]\n",
        "    #print(a,b,row)\n",
        "    B[row].values[i]=b"
      ],
      "execution_count": null,
      "outputs": []
    },
    {
      "cell_type": "code",
      "metadata": {
        "id": "J3VIu9rn5qKm",
        "colab": {
          "base_uri": "https://localhost:8080/",
          "height": 158
        },
        "outputId": "32d9e937-f5c7-4463-92a6-d9b7098808b5"
      },
      "source": [
        "B.mean()"
      ],
      "execution_count": null,
      "outputs": [
        {
          "output_type": "execute_result",
          "data": {
            "text/plain": [
              "Temperature                     0.006546\n",
              "Pressure                        0.012324\n",
              "Feed Flow rate                 -0.177668\n",
              "Coolant Flow rate               0.027752\n",
              "Inlet reactant concentration    0.059687\n",
              "dtype: float64"
            ]
          },
          "metadata": {
            "tags": []
          },
          "execution_count": 548
        }
      ]
    },
    {
      "cell_type": "code",
      "metadata": {
        "id": "trFX3Sby6T07",
        "colab": {
          "base_uri": "https://localhost:8080/",
          "height": 273
        },
        "outputId": "e58eaee3-eb66-477b-8b5d-0a47848edc0e"
      },
      "source": [
        "A=np.array(A)\n",
        "B=np.array(B)\n",
        "print(A,B)"
      ],
      "execution_count": null,
      "outputs": [
        {
          "output_type": "stream",
          "text": [
            "[[ 0.01592416 -0.81577043 -0.7666997  -1.2926921   1.52355421]\n",
            " [ 0.42096719  1.2747394  -0.11591233 -0.67246166  1.24131108]\n",
            " [-0.24946474  0.6964981   0.17583599 -0.931551    0.20415262]\n",
            " ...\n",
            " [-0.0279047   0.23590146  0.05708767  0.51445219  0.9403651 ]\n",
            " [ 1.53877553 -1.64855197 -0.26935379 -1.25284616 -0.08574167]\n",
            " [-0.10992563  0.93036141 -0.29473333  1.49678294  0.56375756]] [[-0.36335074  0.06692096 -1.1289985  -0.43934865  0.83239861]\n",
            " [ 1.52163512  0.5973914  -1.13738074  0.6670567   1.32462381]\n",
            " [ 1.57627739  0.60238238  0.83640264  1.37196949  1.60771706]\n",
            " ...\n",
            " [-0.76482764 -1.26210711  0.54162739 -0.36488056  0.38863081]\n",
            " [-1.59849617  0.52395261 -1.48617483  0.7985846  -0.3424809 ]\n",
            " [-0.30870846 -1.18938132 -1.50503485 -0.05592546  0.34697444]]\n"
          ],
          "name": "stdout"
        }
      ]
    },
    {
      "cell_type": "code",
      "metadata": {
        "id": "KnpHFc6MpQSH",
        "colab": {
          "base_uri": "https://localhost:8080/",
          "height": 74
        },
        "outputId": "d7bf737b-d95c-4995-903e-2468c435659d"
      },
      "source": [
        "B.mean()"
      ],
      "execution_count": null,
      "outputs": [
        {
          "output_type": "execute_result",
          "data": {
            "text/plain": [
              "-0.01427176515687969"
            ]
          },
          "metadata": {
            "tags": []
          },
          "execution_count": 550
        }
      ]
    },
    {
      "cell_type": "code",
      "metadata": {
        "id": "oI0csoXHB8rV"
      },
      "source": [
        "y_train=np.array(y_train)\n",
        "y_test=np.array(y_test)"
      ],
      "execution_count": null,
      "outputs": []
    },
    {
      "cell_type": "code",
      "metadata": {
        "id": "JNui3KL_Lpl6"
      },
      "source": [
        "class SigmoidNeuron:\n",
        "  \n",
        "  def _init_(self):\n",
        "    self.w = None\n",
        "    self.b = None\n",
        "    \n",
        "  def perceptron(self, x):\n",
        "    #print(np.dot(x, self.w.T) + self.b)\n",
        "    return np.dot(x, self.w.T) + self.b\n",
        "  \n",
        "  def sigmoid(self, x):\n",
        "    #print(1.0/(1.0 + np.exp(-x)))\n",
        "    return 1.0/(1.0 + np.exp(-x))\n",
        "  \n",
        "  def grad_w(self, x, y):\n",
        "    y_pred = self.sigmoid(self.perceptron(x))\n",
        "    #print(y,y_pred,y-y_pred)\n",
        "    #print((y_pred - y) * y_pred * (1 - y_pred) * x)\n",
        "    return (y_pred - y) * y_pred * (1 - y_pred) * x\n",
        "  \n",
        "  def grad_b(self, x, y):\n",
        "    y_pred = self.sigmoid(self.perceptron(x))\n",
        "    return (y_pred - y) * y_pred * (1 - y_pred)\n",
        "  \n",
        "  \n",
        "\n",
        "  \n",
        "  def fit(self, X, Y, epochs=1, learning_rate=1, initialise=True, display_loss=False):\n",
        "    \n",
        "    # initialise w, b\n",
        "    if initialise:\n",
        "      self.w = np.random.randn(1,X.shape[1])\n",
        "      self.b = 0\n",
        "      print(self.w)\n",
        "      \n",
        "    if display_loss:\n",
        "      loss = []\n",
        "      #loss1=0\n",
        "    \n",
        "    for i in tqdm_notebook(range(epochs), total=epochs, unit=\"epoch\"):\n",
        "      dw = 0\n",
        "      db = 0\n",
        "      for x, y in zip(X, Y):\n",
        "        #print(self.grad_w(x,y))\n",
        "        dw += self.grad_w(x, y)\n",
        "        db += self.grad_b(x, y) \n",
        "      #print(\"dw\",dw)      \n",
        "      self.w -= learning_rate * dw\n",
        "      self.b -= learning_rate * db\n",
        "      #print(\"w\",self.w)\n",
        "      if display_loss:\n",
        "        loss1=0\n",
        "        for x, y in zip(X, Y):\n",
        "          y_pred = self.sigmoid(self.perceptron(x))\n",
        "        #loss.append(log_loss(Y,Y_pred))\n",
        "          loss1+=(-(y*np.log(y_pred) + (1 - y)*np.log(1 - y_pred)))\n",
        "        loss.append(loss1/700)\n",
        "        \n",
        "    \n",
        "    if display_loss:\n",
        "      \n",
        "      #print(epochs)\n",
        "      plt.plot(loss)\n",
        "      \n",
        "      plt.xlabel('Epochs')\n",
        "      plt.ylabel('Log_Loss')\n",
        "      plt.show()\n",
        "      \n",
        "  def predict(self, X):\n",
        "    Y_pred = []\n",
        "    for x in X:\n",
        "      y_pred = self.sigmoid(self.perceptron(x))\n",
        "      Y_pred.append(y_pred)\n",
        "    return np.array(Y_pred)"
      ],
      "execution_count": null,
      "outputs": []
    },
    {
      "cell_type": "code",
      "metadata": {
        "id": "vg-btrqcVuRx",
        "colab": {
          "base_uri": "https://localhost:8080/",
          "height": 420,
          "referenced_widgets": [
            "89f866b021304a3c9fd66a80a49eca43",
            "df003a6709c84ee8a72742b6f83de8ae",
            "663b492c38c04128ae3c77bd42977243",
            "44fae0d28e3f4ba193d782b1cca78b44",
            "eb0d32bd10814b2e9cba3456ae44e928",
            "e23bdb31006a4444ac63c49f9f4d26bc",
            "438c91f1327146d68532a2b6252c7737",
            "4ca2c8f640d1480f8dcff1f2dcb1128f"
          ]
        },
        "outputId": "0a306f25-2a5d-4e3d-cd3c-59836396035a"
      },
      "source": [
        "sn = SigmoidNeuron()\n",
        "sn.fit(A, y_train, epochs=40, learning_rate=0.015, display_loss=True)"
      ],
      "execution_count": null,
      "outputs": [
        {
          "output_type": "stream",
          "text": [
            "[[ 1.1631484   0.20417425  0.04533842 -0.50793457  2.31404068]]\n"
          ],
          "name": "stdout"
        },
        {
          "output_type": "stream",
          "text": [
            "/usr/local/lib/python3.6/dist-packages/ipykernel_launcher.py:40: TqdmDeprecationWarning: This function will be removed in tqdm==5.0.0\n",
            "Please use `tqdm.notebook.tqdm` instead of `tqdm.tqdm_notebook`\n"
          ],
          "name": "stderr"
        },
        {
          "output_type": "display_data",
          "data": {
            "application/vnd.jupyter.widget-view+json": {
              "model_id": "89f866b021304a3c9fd66a80a49eca43",
              "version_minor": 0,
              "version_major": 2
            },
            "text/plain": [
              "HBox(children=(IntProgress(value=0, max=40), HTML(value='')))"
            ]
          },
          "metadata": {
            "tags": []
          }
        },
        {
          "output_type": "stream",
          "text": [
            "\n"
          ],
          "name": "stdout"
        },
        {
          "output_type": "display_data",
          "data": {
            "image/png": "[encoded data removed]",
            "text/plain": [
              "<Figure size 432x288 with 1 Axes>"
            ]
          },
          "metadata": {
            "tags": [],
            "needs_background": "light"
          }
        }
      ]
    },
    {
      "cell_type": "code",
      "metadata": {
        "id": "OPfPwkNQWz9q"
      },
      "source": [
        "Y_pred_train = sn.predict(A)\n",
        "Y_pred_test = sn.predict(B)"
      ],
      "execution_count": null,
      "outputs": []
    },
    {
      "cell_type": "code",
      "metadata": {
        "id": "wUH4-ht1XF_6"
      },
      "source": [
        "Y_pred_binarised_train = (Y_pred_train > 0.5).astype(\"int\").ravel()\n",
        "Y_pred_binarised_test = (Y_pred_test > 0.5).astype(\"int\").ravel()"
      ],
      "execution_count": null,
      "outputs": []
    },
    {
      "cell_type": "code",
      "metadata": {
        "id": "i_ER7hsrEMfW"
      },
      "source": [
        "def accuracy(y_pred,y):\n",
        "  correct=0\n",
        "  for i in range(len(y)):\n",
        "    if y[i]==y_pred[i]:\n",
        "      correct+=1\n",
        "      #print(correct)\n",
        "  return 100*correct/len(y)"
      ],
      "execution_count": null,
      "outputs": []
    },
    {
      "cell_type": "code",
      "metadata": {
        "id": "Cjijhgs7W-Xr"
      },
      "source": [
        "accuracy_train = accuracy(Y_pred_binarised_train, y_train)\n",
        "accuracy_test  = accuracy(Y_pred_binarised_test, y_test)"
      ],
      "execution_count": null,
      "outputs": []
    },
    {
      "cell_type": "code",
      "metadata": {
        "id": "zqExdcj1XPi1",
        "colab": {
          "base_uri": "https://localhost:8080/",
          "height": 74
        },
        "outputId": "daf14235-088e-475c-915d-023b99d25abb"
      },
      "source": [
        "print(accuracy_train, accuracy_test)"
      ],
      "execution_count": null,
      "outputs": [
        {
          "output_type": "stream",
          "text": [
            "95.42857142857143 94.0\n"
          ],
          "name": "stdout"
        }
      ]
    },
    {
      "cell_type": "code",
      "metadata": {
        "id": "fQSgloIsGU5g"
      },
      "source": [
        "def confusion(y_pred,y):\n",
        "  true_positive=0\n",
        "  true_negative=0\n",
        "  false_positive=0\n",
        "  false_negative=0\n",
        "  for i in range(len(y)):\n",
        "    if y[i]==y_pred[i] and y[i]==1:\n",
        "      true_positive+=1\n",
        "    if y[i]==1 and y_pred[i]==0:\n",
        "      false_negative+=1\n",
        "    if y[i]==0 and y_pred[i]==1:\n",
        "      false_positive+=1\n",
        "    if y[i]==y_pred[i] and y[i]==0:\n",
        "      true_negative+=1\n",
        "\n",
        "  A=np.random.randn(2,2)\n",
        "  A[1,1]=true_positive\n",
        "  A[0,0]=true_negative\n",
        "  A[1,0]=false_positive\n",
        "  A[0,1]=false_negative\n",
        "  return A"
      ],
      "execution_count": null,
      "outputs": []
    },
    {
      "cell_type": "code",
      "metadata": {
        "id": "jG6xnMUYIrRG",
        "colab": {
          "base_uri": "https://localhost:8080/",
          "height": 158
        },
        "outputId": "94d72823-2d33-4cd6-aa86-c37aac359b4b"
      },
      "source": [
        "B=confusion(y_train,Y_pred_binarised_train)\n",
        "print(\"confusion_matrix\")\n",
        "print(B)\n",
        "\n",
        "precision=B[1,1]/(B[1,1]+B[0,1])\n",
        "print(\"precision\",precision)\n",
        "recall=B[1,1]/(B[1,1]+B[1,0])\n",
        "print(\"recall\",recall)\n",
        "f1=2*precision*recall/(precision+recall)\n",
        "print(\"f1\",f1)"
      ],
      "execution_count": null,
      "outputs": [
        {
          "output_type": "stream",
          "text": [
            "confusion_matrix\n",
            "[[286.  17.]\n",
            " [ 15. 382.]]\n",
            "precision 0.9573934837092731\n",
            "recall 0.9622166246851386\n",
            "f1 0.9597989949748744\n"
          ],
          "name": "stdout"
        }
      ]
    },
    {
      "cell_type": "code",
      "metadata": {
        "id": "eh2r9C6MpJQp",
        "colab": {
          "base_uri": "https://localhost:8080/",
          "height": 322
        },
        "outputId": "8daa99d8-310c-4f11-9444-2ce5dac9be8e"
      },
      "source": [
        "#Visualizing confusion matrix\n",
        "sns.heatmap(B/np.sum(B), annot=True, fmt='.2%', cmap='Blues')"
      ],
      "execution_count": null,
      "outputs": [
        {
          "output_type": "execute_result",
          "data": {
            "text/plain": [
              "<matplotlib.axes._subplots.AxesSubplot at 0x7f8fb394e9e8>"
            ]
          },
          "metadata": {
            "tags": []
          },
          "execution_count": 561
        },
        {
          "output_type": "display_data",
          "data": {
            "image/png": "[encoded data removed]",
            "text/plain": [
              "<Figure size 432x288 with 2 Axes>"
            ]
          },
          "metadata": {
            "tags": [],
            "needs_background": "light"
          }
        }
      ]
    }
  ]
}